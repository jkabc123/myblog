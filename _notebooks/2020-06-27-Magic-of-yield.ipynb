{
 "cells": [
  {
   "cell_type": "markdown",
   "metadata": {},
   "source": [
    "# \"Magic of yield\"\n",
    "> Explain the mechanism of yield in Python and how we can apply it in every days work\n",
    "\n",
    "- toc: true \n",
    "- badges: true\n",
    "- comments: true\n",
    "- categories: [yield, generator, concurrent]\n",
    "- hide: true"
   ]
  },
  {
   "cell_type": "markdown",
   "metadata": {},
   "source": [
    "# Introduction"
   ]
  },
  {
   "cell_type": "markdown",
   "metadata": {},
   "source": [
    "**yield** syntax was first introduced to Python in PEP 255. It was introduced to faciliate the concept of **generator**. In short, generator provides a kind of function which returns an immediate value to the caller, then it stops and its state is maintained so that it can be resumed later.\n",
    "\n",
    "Then **enhanced generator** was proposed in PEP 342. It mainly introduced generator expression and send method.\n",
    "\n",
    "Later on in PEP 380, syntax **yield from** was proposed to allow a generator to delegate parts of its operation to another generator. \n",
    "\n",
    "These **yield** syntaxes and the programming techniques around them are so unqiue in Python, they become one of the trademarks magics Python produces and still facinate programmers till today. A better understanding of these techniques will not only make our code more clean and but also easy to understand and more efficient."
   ]
  },
  {
   "cell_type": "markdown",
   "metadata": {},
   "source": [
    "# Example of yield"
   ]
  },
  {
   "cell_type": "markdown",
   "metadata": {},
   "source": [
    "Now we have a look at a simple example to define a function `countdown` which counts down from the number `max` and produces the value."
   ]
  },
  {
   "cell_type": "code",
   "execution_count": 11,
   "metadata": {},
   "outputs": [],
   "source": [
    "def countdown(max):\n",
    "    n=0\n",
    "    while n<max:\n",
    "        print(\"Before yield\", n)\n",
    "        yield n\n",
    "        n+=1\n",
    "        print(\"After yield\",n)"
   ]
  },
  {
   "cell_type": "code",
   "execution_count": 12,
   "metadata": {},
   "outputs": [
    {
     "data": {
      "text/plain": [
       "<generator object countdown at 0x0000021F5B214148>"
      ]
     },
     "execution_count": 12,
     "metadata": {},
     "output_type": "execute_result"
    }
   ],
   "source": [
    "countdown(3)"
   ]
  },
  {
   "cell_type": "code",
   "execution_count": 13,
   "metadata": {},
   "outputs": [],
   "source": [
    "gen=_"
   ]
  },
  {
   "cell_type": "code",
   "execution_count": 14,
   "metadata": {},
   "outputs": [
    {
     "name": "stdout",
     "output_type": "stream",
     "text": [
      "Before yield 0\n"
     ]
    },
    {
     "data": {
      "text/plain": [
       "0"
      ]
     },
     "execution_count": 14,
     "metadata": {},
     "output_type": "execute_result"
    }
   ],
   "source": [
    "next(gen)"
   ]
  },
  {
   "cell_type": "code",
   "execution_count": 15,
   "metadata": {},
   "outputs": [
    {
     "name": "stdout",
     "output_type": "stream",
     "text": [
      "After yield 1\n",
      "Before yield 1\n"
     ]
    },
    {
     "data": {
      "text/plain": [
       "1"
      ]
     },
     "execution_count": 15,
     "metadata": {},
     "output_type": "execute_result"
    }
   ],
   "source": [
    "next(gen)"
   ]
  },
  {
   "cell_type": "code",
   "execution_count": 16,
   "metadata": {},
   "outputs": [
    {
     "name": "stdout",
     "output_type": "stream",
     "text": [
      "After yield 2\n",
      "Before yield 2\n"
     ]
    },
    {
     "data": {
      "text/plain": [
       "2"
      ]
     },
     "execution_count": 16,
     "metadata": {},
     "output_type": "execute_result"
    }
   ],
   "source": [
    "next(gen)"
   ]
  },
  {
   "cell_type": "code",
   "execution_count": 17,
   "metadata": {},
   "outputs": [
    {
     "name": "stdout",
     "output_type": "stream",
     "text": [
      "After yield 3\n"
     ]
    },
    {
     "ename": "StopIteration",
     "evalue": "",
     "output_type": "error",
     "traceback": [
      "\u001b[1;31m---------------------------------------------------------------------------\u001b[0m",
      "\u001b[1;31mStopIteration\u001b[0m                             Traceback (most recent call last)",
      "\u001b[1;32m<ipython-input-17-6e72e47198db>\u001b[0m in \u001b[0;36m<module>\u001b[1;34m\u001b[0m\n\u001b[1;32m----> 1\u001b[1;33m \u001b[0mnext\u001b[0m\u001b[1;33m(\u001b[0m\u001b[0mgen\u001b[0m\u001b[1;33m)\u001b[0m\u001b[1;33m\u001b[0m\u001b[1;33m\u001b[0m\u001b[0m\n\u001b[0m",
      "\u001b[1;31mStopIteration\u001b[0m: "
     ]
    }
   ],
   "source": [
    "next(gen)"
   ]
  },
  {
   "cell_type": "markdown",
   "metadata": {},
   "source": [
    "From the code above you can tell, once you have a yield statement inside **countdown** function, it becomes a function returns generator object. \n",
    "\n",
    "You can call **next** on **gen**. It will run to yield and then stops there.\n",
    "\n",
    "When you call next on gen again, it continues to run from the previous state to the next yield.\n",
    "\n",
    "You continue to call next on gen a few times until it exits the loop. Because now it can't reach the yield statement, it produces a **StopIteration** Exception."
   ]
  },
  {
   "cell_type": "markdown",
   "metadata": {
    "heading_collapsed": true
   },
   "source": [
    "# How things work"
   ]
  },
  {
   "cell_type": "code",
   "execution_count": 19,
   "metadata": {
    "hidden": true
   },
   "outputs": [],
   "source": [
    "import dis"
   ]
  },
  {
   "cell_type": "code",
   "execution_count": 20,
   "metadata": {
    "hidden": true
   },
   "outputs": [
    {
     "name": "stdout",
     "output_type": "stream",
     "text": [
      "  2           0 LOAD_CONST               1 (0)\n",
      "              2 STORE_FAST               1 (n)\n",
      "\n",
      "  3           4 SETUP_LOOP              46 (to 52)\n",
      "        >>    6 LOAD_FAST                1 (n)\n",
      "              8 LOAD_FAST                0 (max)\n",
      "             10 COMPARE_OP               0 (<)\n",
      "             12 POP_JUMP_IF_FALSE       50\n",
      "\n",
      "  4          14 LOAD_GLOBAL              0 (print)\n",
      "             16 LOAD_CONST               2 ('Before yield')\n",
      "             18 LOAD_FAST                1 (n)\n",
      "             20 CALL_FUNCTION            2\n",
      "             22 POP_TOP\n",
      "\n",
      "  5          24 LOAD_FAST                1 (n)\n",
      "             26 YIELD_VALUE\n",
      "             28 POP_TOP\n",
      "\n",
      "  6          30 LOAD_FAST                1 (n)\n",
      "             32 LOAD_CONST               3 (1)\n",
      "             34 INPLACE_ADD\n",
      "             36 STORE_FAST               1 (n)\n",
      "\n",
      "  7          38 LOAD_GLOBAL              0 (print)\n",
      "             40 LOAD_CONST               4 ('After yield')\n",
      "             42 LOAD_FAST                1 (n)\n",
      "             44 CALL_FUNCTION            2\n",
      "             46 POP_TOP\n",
      "             48 JUMP_ABSOLUTE            6\n",
      "        >>   50 POP_BLOCK\n",
      "        >>   52 LOAD_CONST               0 (None)\n",
      "             54 RETURN_VALUE\n"
     ]
    }
   ],
   "source": [
    "dis.dis(countdown)"
   ]
  },
  {
   "cell_type": "code",
   "execution_count": 21,
   "metadata": {
    "hidden": true
   },
   "outputs": [
    {
     "data": {
      "text/plain": [
       "['__class__',\n",
       " '__del__',\n",
       " '__delattr__',\n",
       " '__dir__',\n",
       " '__doc__',\n",
       " '__eq__',\n",
       " '__format__',\n",
       " '__ge__',\n",
       " '__getattribute__',\n",
       " '__gt__',\n",
       " '__hash__',\n",
       " '__init__',\n",
       " '__init_subclass__',\n",
       " '__iter__',\n",
       " '__le__',\n",
       " '__lt__',\n",
       " '__name__',\n",
       " '__ne__',\n",
       " '__new__',\n",
       " '__next__',\n",
       " '__qualname__',\n",
       " '__reduce__',\n",
       " '__reduce_ex__',\n",
       " '__repr__',\n",
       " '__setattr__',\n",
       " '__sizeof__',\n",
       " '__str__',\n",
       " '__subclasshook__',\n",
       " 'close',\n",
       " 'gi_code',\n",
       " 'gi_frame',\n",
       " 'gi_running',\n",
       " 'gi_yieldfrom',\n",
       " 'send',\n",
       " 'throw']"
      ]
     },
     "execution_count": 21,
     "metadata": {},
     "output_type": "execute_result"
    }
   ],
   "source": [
    "dir(gen)"
   ]
  },
  {
   "cell_type": "code",
   "execution_count": 27,
   "metadata": {
    "hidden": true
   },
   "outputs": [
    {
     "data": {
      "text/plain": [
       "(<code object countdown at 0x0000021F5B289A50, file \"<ipython-input-11-a50b7c6d6d32>\", line 1>,\n",
       " False)"
      ]
     },
     "execution_count": 27,
     "metadata": {},
     "output_type": "execute_result"
    }
   ],
   "source": [
    "gen.gi_code, gen.gi_running"
   ]
  },
  {
   "cell_type": "markdown",
   "metadata": {},
   "source": [
    "# More about yield"
   ]
  },
  {
   "cell_type": "code",
   "execution_count": null,
   "metadata": {},
   "outputs": [],
   "source": []
  }
 ],
 "metadata": {
  "kernelspec": {
   "display_name": "Python 3",
   "language": "python",
   "name": "python3"
  },
  "language_info": {
   "codemirror_mode": {
    "name": "ipython",
    "version": 3
   },
   "file_extension": ".py",
   "mimetype": "text/x-python",
   "name": "python",
   "nbconvert_exporter": "python",
   "pygments_lexer": "ipython3",
   "version": "3.7.4"
  },
  "toc": {
   "base_numbering": 1,
   "nav_menu": {},
   "number_sections": true,
   "sideBar": true,
   "skip_h1_title": false,
   "title_cell": "Table of Contents",
   "title_sidebar": "Contents",
   "toc_cell": false,
   "toc_position": {},
   "toc_section_display": true,
   "toc_window_display": false
  }
 },
 "nbformat": 4,
 "nbformat_minor": 2
}
